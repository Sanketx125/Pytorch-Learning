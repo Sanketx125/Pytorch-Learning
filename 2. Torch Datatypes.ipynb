{
 "cells": [
  {
   "cell_type": "markdown",
   "id": "41528e77-500e-482d-8009-ff37c23cb8d5",
   "metadata": {},
   "source": [
    "# Torch Datatypes:"
   ]
  },
  {
   "cell_type": "markdown",
   "id": "7b0a4496-fcb2-4b24-a389-187e4c68533e",
   "metadata": {},
   "source": [
    "* it has maily one data that is number and this numbers are also classify into two types\n",
    "  *    1. int   - 16-bit, 32-bit, 64-bit       ------> 64 default\n",
    "       2. float - 16-bit, 32-bit, 64-bit       ------> 32 default\n",
    "\n",
    "* default datatype of torch is float32"
   ]
  },
  {
   "cell_type": "code",
   "execution_count": 1,
   "id": "cbc7f8b0-6bf3-4344-b3a4-93a7fb27b992",
   "metadata": {},
   "outputs": [],
   "source": [
    "import torch"
   ]
  },
  {
   "cell_type": "code",
   "execution_count": 2,
   "id": "38db14a1-07f9-4c1d-a922-9fd5bc71e58a",
   "metadata": {},
   "outputs": [
    {
     "data": {
      "text/plain": [
       "tensor([[0.3788, 0.4013, 0.8681, 0.9853],\n",
       "        [0.3695, 0.8887, 0.6797, 0.3463],\n",
       "        [0.5126, 0.9270, 0.7235, 0.9826]])"
      ]
     },
     "execution_count": 2,
     "metadata": {},
     "output_type": "execute_result"
    }
   ],
   "source": [
    "sample = torch.rand(size=(3,4))\n",
    "sample"
   ]
  },
  {
   "cell_type": "code",
   "execution_count": 4,
   "id": "5930ae90-b3a3-4b94-a47d-bb7a0067352e",
   "metadata": {},
   "outputs": [
    {
     "data": {
      "text/plain": [
       "torch.float32"
      ]
     },
     "execution_count": 4,
     "metadata": {},
     "output_type": "execute_result"
    }
   ],
   "source": [
    "sample.dtype"
   ]
  },
  {
   "cell_type": "code",
   "execution_count": 10,
   "id": "9e5de8f9-7360-414b-a098-13516d8d3902",
   "metadata": {},
   "outputs": [
    {
     "data": {
      "text/plain": [
       "tensor([1, 2, 3, 4, 5, 6, 7, 8, 9])"
      ]
     },
     "execution_count": 10,
     "metadata": {},
     "output_type": "execute_result"
    }
   ],
   "source": [
    "sample_int = torch.arange(1, 10, dtype = int)\n",
    "sample_int"
   ]
  },
  {
   "cell_type": "code",
   "execution_count": 11,
   "id": "36358c89-5a70-4ca1-a69e-350b29422c21",
   "metadata": {},
   "outputs": [
    {
     "data": {
      "text/plain": [
       "torch.int64"
      ]
     },
     "execution_count": 11,
     "metadata": {},
     "output_type": "execute_result"
    }
   ],
   "source": [
    "sample_int.dtype"
   ]
  },
  {
   "cell_type": "markdown",
   "id": "ec66a9af-8110-4d8b-a3d5-b95318ba0187",
   "metadata": {},
   "source": [
    "---\n",
    "## Datatype Changing:\n",
    "   * some we need to perform some arthmetical operations on tensor that if datatypes are different then it can not perform operations. due to different datatypes\n",
    "\n",
    "   * "
   ]
  },
  {
   "cell_type": "code",
   "execution_count": 25,
   "id": "c9395328-f778-4fb0-8054-99524c37d784",
   "metadata": {},
   "outputs": [
    {
     "data": {
      "text/plain": [
       "(tensor([1., 2., 3., 4., 5., 6., 7., 8., 9.]), torch.float32)"
      ]
     },
     "execution_count": 25,
     "metadata": {},
     "output_type": "execute_result"
    }
   ],
   "source": [
    "# default float value:\n",
    "x = torch.arange(1, 10.)\n",
    "x, x.dtype"
   ]
  },
  {
   "cell_type": "markdown",
   "id": "9b388ee6-7ec6-4899-96d4-7d71abbf0511",
   "metadata": {},
   "source": [
    "#### float32   --->  float16"
   ]
  },
  {
   "cell_type": "code",
   "execution_count": 27,
   "id": "b1dd12ad-2f2e-4312-b6a5-7f9a344b74b6",
   "metadata": {},
   "outputs": [],
   "source": [
    "# float32 to float16\n",
    "x_float = x.type(torch.float16)"
   ]
  },
  {
   "cell_type": "code",
   "execution_count": 24,
   "id": "1cba3011-f80d-436b-84fa-6bca91dda929",
   "metadata": {},
   "outputs": [
    {
     "data": {
      "text/plain": [
       "tensor([1., 2., 3., 4., 5., 6., 7., 8., 9.], dtype=torch.float16)"
      ]
     },
     "execution_count": 24,
     "metadata": {},
     "output_type": "execute_result"
    }
   ],
   "source": [
    "x_float"
   ]
  },
  {
   "cell_type": "markdown",
   "id": "68c089a2-a6c6-4d97-ae98-3e4e1455ab83",
   "metadata": {},
   "source": [
    "#### float32  --->  int8"
   ]
  },
  {
   "cell_type": "code",
   "execution_count": 28,
   "id": "c6a3f56d-f909-4eb5-bc02-29cda08a1068",
   "metadata": {},
   "outputs": [],
   "source": [
    "# float32 to int8\n",
    "x_int8 = x.type(torch.int8)"
   ]
  },
  {
   "cell_type": "code",
   "execution_count": 29,
   "id": "2d363b4b-a3c3-4319-9187-cf0dd7034256",
   "metadata": {},
   "outputs": [
    {
     "data": {
      "text/plain": [
       "tensor([1, 2, 3, 4, 5, 6, 7, 8, 9], dtype=torch.int8)"
      ]
     },
     "execution_count": 29,
     "metadata": {},
     "output_type": "execute_result"
    }
   ],
   "source": [
    "x_int8"
   ]
  },
  {
   "cell_type": "markdown",
   "id": "77ae56fe-4b5f-4b8f-bf13-d2c504a7f166",
   "metadata": {},
   "source": [
    "---\n",
    "\n",
    "# Getting Information from Tensor's :\n",
    "\n",
    "   * Shape   - checking Size\n",
    "   * dtype   - Checking Datatype\n",
    "   * device  - checking where the Tensor is Stored\n",
    "\n",
    "#### Example-"
   ]
  },
  {
   "cell_type": "code",
   "execution_count": 30,
   "id": "76b9f94d-d323-4d7a-b64f-d7ef80536589",
   "metadata": {},
   "outputs": [
    {
     "data": {
      "text/plain": [
       "tensor([[0.8561, 0.5623, 0.6072, 0.7850],\n",
       "        [0.1332, 0.9163, 0.0855, 0.7430],\n",
       "        [0.7655, 0.6856, 0.9799, 0.8403]])"
      ]
     },
     "execution_count": 30,
     "metadata": {},
     "output_type": "execute_result"
    }
   ],
   "source": [
    "some_tensor = torch.rand(3,4)\n",
    "some_tensor"
   ]
  },
  {
   "cell_type": "code",
   "execution_count": 37,
   "id": "751acd70-3c17-4338-b970-3c55cc1e66fe",
   "metadata": {},
   "outputs": [
    {
     "data": {
      "text/plain": [
       "torch.Size([3, 4])"
      ]
     },
     "execution_count": 37,
     "metadata": {},
     "output_type": "execute_result"
    }
   ],
   "source": [
    "some_tensor.shape  # 3X4"
   ]
  },
  {
   "cell_type": "code",
   "execution_count": 38,
   "id": "c5fb2b3c-44cd-46f5-badc-507fbd9b12ac",
   "metadata": {},
   "outputs": [
    {
     "data": {
      "text/plain": [
       "torch.float32"
      ]
     },
     "execution_count": 38,
     "metadata": {},
     "output_type": "execute_result"
    }
   ],
   "source": [
    "some_tensor.dtype   # Float32"
   ]
  },
  {
   "cell_type": "code",
   "execution_count": 39,
   "id": "3827d6b1-50d0-4458-9987-2c4cb97b04fb",
   "metadata": {},
   "outputs": [
    {
     "data": {
      "text/plain": [
       "device(type='cpu')"
      ]
     },
     "execution_count": 39,
     "metadata": {},
     "output_type": "execute_result"
    }
   ],
   "source": [
    "some_tensor.device   # CPU"
   ]
  },
  {
   "cell_type": "code",
   "execution_count": null,
   "id": "e34c8caa-1f15-4836-8648-5098de50fb3d",
   "metadata": {},
   "outputs": [],
   "source": []
  }
 ],
 "metadata": {
  "kernelspec": {
   "display_name": "Python 3 (ipykernel)",
   "language": "python",
   "name": "python3"
  },
  "language_info": {
   "codemirror_mode": {
    "name": "ipython",
    "version": 3
   },
   "file_extension": ".py",
   "mimetype": "text/x-python",
   "name": "python",
   "nbconvert_exporter": "python",
   "pygments_lexer": "ipython3",
   "version": "3.12.4"
  }
 },
 "nbformat": 4,
 "nbformat_minor": 5
}
