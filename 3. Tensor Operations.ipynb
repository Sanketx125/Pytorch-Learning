{
 "cells": [
  {
   "cell_type": "markdown",
   "id": "db7e0acd-6731-43a9-aacd-1d73087ef614",
   "metadata": {},
   "source": [
    "# Operations on Tensor:"
   ]
  },
  {
   "cell_type": "markdown",
   "id": "af220604-91ed-4ec9-8755-b4a2aa9d02ac",
   "metadata": {},
   "source": [
    "   * Addition\n",
    "   * Subtraction\n",
    "   * Multiplication  (element-wise)\n",
    "   * Division\n",
    "   * Matrix Multiplication (dot product , cross product)\n",
    "\n",
    "\n",
    "---"
   ]
  },
  {
   "cell_type": "code",
   "execution_count": 1,
   "id": "4534289a-028f-4a6b-9a5f-7842256b2037",
   "metadata": {},
   "outputs": [],
   "source": [
    "import torch"
   ]
  },
  {
   "cell_type": "code",
   "execution_count": 10,
   "id": "9e16ca02-15f7-454f-a7a3-8835969a0ce0",
   "metadata": {},
   "outputs": [
    {
     "data": {
      "text/plain": [
       "(tensor([1, 2, 3, 4]), tensor([5, 6, 7, 8]))"
      ]
     },
     "execution_count": 10,
     "metadata": {},
     "output_type": "execute_result"
    }
   ],
   "source": [
    "tes1 = torch.tensor([ 1, 2, 3, 4])\n",
    "tes2 = torch.tensor([ 5, 6, 7, 8])\n",
    "tes1, tes2"
   ]
  },
  {
   "cell_type": "markdown",
   "id": "1ec20b10-ea81-443c-85ec-9f6b35d98cbf",
   "metadata": {},
   "source": [
    "### 1. Addition:"
   ]
  },
  {
   "cell_type": "code",
   "execution_count": 11,
   "id": "b29923ad-8b27-43b4-9515-c892c24d4533",
   "metadata": {},
   "outputs": [
    {
     "data": {
      "text/plain": [
       "tensor([1, 2, 3, 4])"
      ]
     },
     "execution_count": 11,
     "metadata": {},
     "output_type": "execute_result"
    }
   ],
   "source": [
    "tes1"
   ]
  },
  {
   "cell_type": "code",
   "execution_count": 12,
   "id": "0aa9a16f-d620-4d57-82e2-cb3fc7465eae",
   "metadata": {},
   "outputs": [],
   "source": [
    "# this method can not change actual variable\n",
    "add = tes1 + 10 "
   ]
  },
  {
   "cell_type": "code",
   "execution_count": 13,
   "id": "fac47ffb-3569-4349-bf70-b8b077d4abaf",
   "metadata": {},
   "outputs": [
    {
     "data": {
      "text/plain": [
       "(tensor([1, 2, 3, 4]), tensor([11, 12, 13, 14]))"
      ]
     },
     "execution_count": 13,
     "metadata": {},
     "output_type": "execute_result"
    }
   ],
   "source": [
    "tes1, add"
   ]
  },
  {
   "cell_type": "code",
   "execution_count": 15,
   "id": "96898a61-0ce0-44e3-834d-9129363a5151",
   "metadata": {},
   "outputs": [
    {
     "data": {
      "text/plain": [
       "(tensor([1, 2, 3, 4]), tensor([5, 6, 7, 8]))"
      ]
     },
     "execution_count": 15,
     "metadata": {},
     "output_type": "execute_result"
    }
   ],
   "source": [
    "tes1, tes2"
   ]
  },
  {
   "cell_type": "markdown",
   "id": "e3180933-f88d-4760-839c-c6a54e17bb64",
   "metadata": {},
   "source": [
    "#### Method - I"
   ]
  },
  {
   "cell_type": "code",
   "execution_count": 14,
   "id": "31dbda1f-03b3-40f1-9653-9bf7314e630a",
   "metadata": {},
   "outputs": [
    {
     "data": {
      "text/plain": [
       "tensor([ 6,  8, 10, 12])"
      ]
     },
     "execution_count": 14,
     "metadata": {},
     "output_type": "execute_result"
    }
   ],
   "source": [
    "# addition of two tensors:\n",
    "tes1 + tes2"
   ]
  },
  {
   "cell_type": "markdown",
   "id": "28be7712-0602-4854-9eaa-0dbb9703089b",
   "metadata": {},
   "source": [
    "#### Method - II"
   ]
  },
  {
   "cell_type": "code",
   "execution_count": 16,
   "id": "ad781e05-d29c-4847-b4c6-951aa1e82a28",
   "metadata": {},
   "outputs": [
    {
     "data": {
      "text/plain": [
       "tensor([ 6,  8, 10, 12])"
      ]
     },
     "execution_count": 16,
     "metadata": {},
     "output_type": "execute_result"
    }
   ],
   "source": [
    "torch.add(tes1, tes2)"
   ]
  },
  {
   "cell_type": "markdown",
   "id": "24fc6f13-ed92-42e9-b99e-71dcb5585065",
   "metadata": {},
   "source": [
    "---\n",
    "### 2. Substraction:"
   ]
  },
  {
   "cell_type": "code",
   "execution_count": 19,
   "id": "19ca3719-b849-4bcb-9faf-5cc890962b36",
   "metadata": {},
   "outputs": [
    {
     "data": {
      "text/plain": [
       "(tensor([1, 2, 3, 4]), tensor([5, 6, 7, 8]), tensor([11, 12, 13, 14]))"
      ]
     },
     "execution_count": 19,
     "metadata": {},
     "output_type": "execute_result"
    }
   ],
   "source": [
    "# two tensors :\n",
    "tes1, tes2, add"
   ]
  },
  {
   "cell_type": "markdown",
   "id": "d656e3b2-af09-4098-a186-55cef54b9d25",
   "metadata": {},
   "source": [
    "#### Method - I\n"
   ]
  },
  {
   "cell_type": "code",
   "execution_count": 21,
   "id": "d0c754cd-a578-42db-a3c9-938030ffcb9b",
   "metadata": {},
   "outputs": [
    {
     "data": {
      "text/plain": [
       "tensor([1, 2, 3, 4])"
      ]
     },
     "execution_count": 21,
     "metadata": {},
     "output_type": "execute_result"
    }
   ],
   "source": [
    "add-10"
   ]
  },
  {
   "cell_type": "markdown",
   "id": "3447929b-d5fe-4416-a526-84c3db6a780f",
   "metadata": {},
   "source": [
    "#### Method - II"
   ]
  },
  {
   "cell_type": "code",
   "execution_count": 26,
   "id": "c00748d5-781a-470b-b383-755249d70383",
   "metadata": {},
   "outputs": [
    {
     "data": {
      "text/plain": [
       "tensor([1, 2, 3, 4])"
      ]
     },
     "execution_count": 26,
     "metadata": {},
     "output_type": "execute_result"
    }
   ],
   "source": [
    "torch.sub(add, 10)"
   ]
  },
  {
   "cell_type": "code",
   "execution_count": 27,
   "id": "6766a899-c87b-4376-bb74-da8c33b3e49f",
   "metadata": {},
   "outputs": [
    {
     "data": {
      "text/plain": [
       "tensor([4, 4, 4, 4])"
      ]
     },
     "execution_count": 27,
     "metadata": {},
     "output_type": "execute_result"
    }
   ],
   "source": [
    "torch.sub(tes2, tes1)"
   ]
  },
  {
   "cell_type": "markdown",
   "id": "f4effdf4-11cf-467a-9cc4-9fc6b772e48d",
   "metadata": {},
   "source": [
    "---\n",
    "### 3. Multiplication (element-wise): "
   ]
  },
  {
   "cell_type": "code",
   "execution_count": 34,
   "id": "469b626e-95fa-431a-a063-dc4c3b5f66c6",
   "metadata": {},
   "outputs": [
    {
     "data": {
      "text/plain": [
       "(tensor([1, 2, 3, 4]), tensor([5, 6, 7, 8]), tensor([11, 12, 13, 14]))"
      ]
     },
     "execution_count": 34,
     "metadata": {},
     "output_type": "execute_result"
    }
   ],
   "source": [
    "# sample tensors :\n",
    "tes1, tes2, add"
   ]
  },
  {
   "cell_type": "code",
   "execution_count": 31,
   "id": "2b6ecdf2-500e-4dc1-88c4-dc13c4e09767",
   "metadata": {},
   "outputs": [
    {
     "data": {
      "text/plain": [
       "tensor([10, 20, 30, 40])"
      ]
     },
     "execution_count": 31,
     "metadata": {},
     "output_type": "execute_result"
    }
   ],
   "source": [
    "# multiplying each element by using any number:\n",
    "tes1 * 10"
   ]
  },
  {
   "cell_type": "code",
   "execution_count": 32,
   "id": "30f3d5b9-1107-4c37-bf8c-33b321d1ece4",
   "metadata": {},
   "outputs": [
    {
     "data": {
      "text/plain": [
       "tensor([ 5, 12, 21, 32])"
      ]
     },
     "execution_count": 32,
     "metadata": {},
     "output_type": "execute_result"
    }
   ],
   "source": [
    "# Multiplication of Two tensors\n",
    "torch.mul(tes1, tes2)"
   ]
  },
  {
   "cell_type": "markdown",
   "id": "5834032e-a639-4d9a-b8c0-f5b4151d00a9",
   "metadata": {},
   "source": [
    "---\n",
    "### 4. Division :"
   ]
  },
  {
   "cell_type": "code",
   "execution_count": 35,
   "id": "13d43d3d-6138-4ce4-bf1d-34ca0e63a9f3",
   "metadata": {},
   "outputs": [
    {
     "data": {
      "text/plain": [
       "(tensor([1, 2, 3, 4]), tensor([5, 6, 7, 8]), tensor([11, 12, 13, 14]))"
      ]
     },
     "execution_count": 35,
     "metadata": {},
     "output_type": "execute_result"
    }
   ],
   "source": [
    "# sample tensors :\n",
    "tes1, tes2, add"
   ]
  },
  {
   "cell_type": "code",
   "execution_count": 36,
   "id": "c80a0730-e4c3-4955-952d-f20b2faba3f2",
   "metadata": {},
   "outputs": [
    {
     "data": {
      "text/plain": [
       "tensor([0.1000, 0.2000, 0.3000, 0.4000])"
      ]
     },
     "execution_count": 36,
     "metadata": {},
     "output_type": "execute_result"
    }
   ],
   "source": [
    "# division by using any number\n",
    "tes1/10"
   ]
  },
  {
   "cell_type": "code",
   "execution_count": 38,
   "id": "d7e90990-51c9-4772-94a7-343876d68e4a",
   "metadata": {},
   "outputs": [
    {
     "data": {
      "text/plain": [
       "tensor([5.0000, 3.0000, 2.3333, 2.0000])"
      ]
     },
     "execution_count": 38,
     "metadata": {},
     "output_type": "execute_result"
    }
   ],
   "source": [
    "# Multiplication of Two tensors\n",
    "tes2/ tes1"
   ]
  },
  {
   "attachments": {
    "cd23ea81-0477-493e-aed8-c71f08b826c3.png": {
     "image/png": "[encoded data removed]"
    }
   },
   "cell_type": "markdown",
   "id": "aab321ac-92c7-4aa7-a07f-5d0f3fa10d10",
   "metadata": {},
   "source": [
    "---\n",
    "### 5. Matrix Multiplication :\n",
    "\n",
    "* matrix multiplication is done only if:\n",
    "    *   Frist matrix columns and 2nd matrix row are equal\n",
    "* example:\n",
    "\n",
    "\n",
    "* ![image.png](attachment:cd23ea81-0477-493e-aed8-c71f08b826c3.png)"
   ]
  },
  {
   "cell_type": "code",
   "execution_count": 46,
   "id": "45e2d1f9-ead8-4471-b51c-1d57810eb545",
   "metadata": {},
   "outputs": [],
   "source": [
    "# Creating tow sample matrix\n",
    "matrix_1 = torch.tensor([[1, 2],\n",
    "                        [3, 4]])\n",
    "\n",
    "matrix_2 = torch.tensor([[1, 2],\n",
    "                        [3, 4]])"
   ]
  },
  {
   "cell_type": "code",
   "execution_count": 47,
   "id": "cb92e6c3-52cb-40b0-9296-cac07b0574b4",
   "metadata": {},
   "outputs": [
    {
     "data": {
      "text/plain": [
       "(tensor([[1, 2],\n",
       "         [3, 4]]),\n",
       " tensor([[1, 2],\n",
       "         [3, 4]]))"
      ]
     },
     "execution_count": 47,
     "metadata": {},
     "output_type": "execute_result"
    }
   ],
   "source": [
    "matrix_1, matrix_2"
   ]
  },
  {
   "cell_type": "code",
   "execution_count": 48,
   "id": "96f8a5da-92fb-4237-a44a-80d8c8383780",
   "metadata": {},
   "outputs": [
    {
     "data": {
      "text/plain": [
       "(torch.Size([2, 2]), torch.Size([2, 2]))"
      ]
     },
     "execution_count": 48,
     "metadata": {},
     "output_type": "execute_result"
    }
   ],
   "source": [
    "matrix_1.shape, matrix_2.shape"
   ]
  },
  {
   "cell_type": "markdown",
   "id": "de71fbd9-211f-4b19-96be-3a9731b94da2",
   "metadata": {},
   "source": [
    "#### Method - I"
   ]
  },
  {
   "cell_type": "code",
   "execution_count": 50,
   "id": "07d27483-0654-480a-a74b-e0c22019509f",
   "metadata": {},
   "outputs": [
    {
     "data": {
      "text/plain": [
       "tensor([[ 7, 10],\n",
       "        [15, 22]])"
      ]
     },
     "execution_count": 50,
     "metadata": {},
     "output_type": "execute_result"
    }
   ],
   "source": [
    "# Matrix Multiplication:\n",
    "\n",
    "matrix_1 @ matrix_2"
   ]
  },
  {
   "cell_type": "markdown",
   "id": "160cc061-b6ad-484f-b0b9-09c656fbb917",
   "metadata": {},
   "source": [
    "#### Method - II"
   ]
  },
  {
   "cell_type": "code",
   "execution_count": 51,
   "id": "06b53ef9-94e8-4626-9b1a-86654db27dcd",
   "metadata": {},
   "outputs": [
    {
     "data": {
      "text/plain": [
       "tensor([[ 7, 10],\n",
       "        [15, 22]])"
      ]
     },
     "execution_count": 51,
     "metadata": {},
     "output_type": "execute_result"
    }
   ],
   "source": [
    "torch.mm(matrix_1, matrix_2)"
   ]
  },
  {
   "cell_type": "markdown",
   "id": "3becf314-dcb2-4664-97fd-b4bc80d52116",
   "metadata": {},
   "source": [
    "#### Method - III"
   ]
  },
  {
   "cell_type": "code",
   "execution_count": 52,
   "id": "6d2b3ce3-9343-4d5a-a31c-3181e40d29ed",
   "metadata": {},
   "outputs": [
    {
     "data": {
      "text/plain": [
       "tensor([[ 7, 10],\n",
       "        [15, 22]])"
      ]
     },
     "execution_count": 52,
     "metadata": {},
     "output_type": "execute_result"
    }
   ],
   "source": [
    "torch.matmul(matrix_1, matrix_2)"
   ]
  },
  {
   "cell_type": "code",
   "execution_count": null,
   "id": "078abd22-ddab-446b-8a45-0da78d8c5660",
   "metadata": {},
   "outputs": [],
   "source": []
  },
  {
   "cell_type": "code",
   "execution_count": null,
   "id": "dcbcf84d-3db7-4603-88b8-cda84506ab0c",
   "metadata": {},
   "outputs": [],
   "source": []
  },
  {
   "cell_type": "markdown",
   "id": "a09967fd-7671-4c84-aa77-684d3e026065",
   "metadata": {},
   "source": [
    "---\n",
    "#              Shape Error:\n",
    "---"
   ]
  },
  {
   "cell_type": "markdown",
   "id": "84496a80-2333-48b6-b7a5-47d915a221e0",
   "metadata": {},
   "source": [
    "* One of the most occuring Error in Deepe Learning:"
   ]
  },
  {
   "cell_type": "code",
   "execution_count": 54,
   "id": "cd6d1a80-f464-4287-8cf3-f5a4fff75408",
   "metadata": {},
   "outputs": [],
   "source": [
    "matrix_A = torch.tensor([[1, 2],\n",
    "                        [3, 4],\n",
    "                        [5, 6]], dtype=torch.float32)\n",
    "\n",
    "matrix_B = torch.tensor([[7, 8],\n",
    "                        [9, 10],\n",
    "                        [11, 12]], dtype=torch.float32)"
   ]
  },
  {
   "cell_type": "code",
   "execution_count": 66,
   "id": "42c888a7-ade4-41d2-b349-d2a1fb715bfa",
   "metadata": {},
   "outputs": [
    {
     "data": {
      "text/plain": [
       "tensor([[1., 2.],\n",
       "        [3., 4.],\n",
       "        [5., 6.]])"
      ]
     },
     "execution_count": 66,
     "metadata": {},
     "output_type": "execute_result"
    }
   ],
   "source": [
    "matrix_A"
   ]
  },
  {
   "cell_type": "code",
   "execution_count": 57,
   "id": "91c8b0e7-b86d-429c-8711-46614eccaaa7",
   "metadata": {},
   "outputs": [
    {
     "data": {
      "text/plain": [
       "tensor([[ 7.,  8.],\n",
       "        [ 9., 10.],\n",
       "        [11., 12.]])"
      ]
     },
     "execution_count": 57,
     "metadata": {},
     "output_type": "execute_result"
    }
   ],
   "source": [
    "matrix_B"
   ]
  },
  {
   "cell_type": "code",
   "execution_count": 67,
   "id": "924d9492-7ec3-404a-93fe-cebf01a928e3",
   "metadata": {},
   "outputs": [
    {
     "data": {
      "text/plain": [
       "(torch.Size([3, 2]), torch.Size([3, 2]))"
      ]
     },
     "execution_count": 67,
     "metadata": {},
     "output_type": "execute_result"
    }
   ],
   "source": [
    "matrix_A.shape, matrix_B.shape"
   ]
  },
  {
   "cell_type": "code",
   "execution_count": 58,
   "id": "37c0b663-56c7-451d-9122-0beeccce7e35",
   "metadata": {},
   "outputs": [
    {
     "ename": "RuntimeError",
     "evalue": "mat1 and mat2 shapes cannot be multiplied (3x2 and 3x2)",
     "output_type": "error",
     "traceback": [
      "\u001b[1;31m---------------------------------------------------------------------------\u001b[0m",
      "\u001b[1;31mRuntimeError\u001b[0m                              Traceback (most recent call last)",
      "Cell \u001b[1;32mIn[58], line 1\u001b[0m\n\u001b[1;32m----> 1\u001b[0m torch\u001b[38;5;241m.\u001b[39mmatmul(matrix_A, matrix_B)\n",
      "\u001b[1;31mRuntimeError\u001b[0m: mat1 and mat2 shapes cannot be multiplied (3x2 and 3x2)"
     ]
    }
   ],
   "source": [
    "torch.matmul(matrix_A, matrix_B)"
   ]
  },
  {
   "cell_type": "markdown",
   "id": "1c3abf52-2ff4-4d7d-b902-d25b0b835778",
   "metadata": {},
   "source": [
    "### This error is occruing because frist 1st matrix columns and 2nd matrix rows are not equal "
   ]
  },
  {
   "cell_type": "markdown",
   "id": "2904ac0f-ce5e-4b36-b1d3-72972336e452",
   "metadata": {},
   "source": [
    "# Matrix Transform"
   ]
  },
  {
   "cell_type": "code",
   "execution_count": 63,
   "id": "1885fff6-135f-45cb-919c-0a240d354657",
   "metadata": {},
   "outputs": [
    {
     "data": {
      "text/plain": [
       "tensor([[ 7.,  9., 11.],\n",
       "        [ 8., 10., 12.]])"
      ]
     },
     "execution_count": 63,
     "metadata": {},
     "output_type": "execute_result"
    }
   ],
   "source": [
    "matrix_B_Trans = matrix_B.T   # matrix transormation apply on matrix_B\n",
    "matrix_B_Trans"
   ]
  },
  {
   "cell_type": "code",
   "execution_count": 69,
   "id": "a344c496-8181-4d8c-9bc4-2f3fe6dd0796",
   "metadata": {},
   "outputs": [
    {
     "data": {
      "text/plain": [
       "(torch.Size([3, 2]), torch.Size([2, 3]))"
      ]
     },
     "execution_count": 69,
     "metadata": {},
     "output_type": "execute_result"
    }
   ],
   "source": [
    "# now 1st matrix columns and 2nd matrix rows are equal\n",
    "\n",
    "matrix_A.shape, matrix_B_Trans.shape  "
   ]
  },
  {
   "cell_type": "markdown",
   "id": "5786d65d-0068-4eba-8429-7bea26c114a3",
   "metadata": {},
   "source": [
    "### now we able to perform matrix multiplication operation on this above matrix"
   ]
  },
  {
   "cell_type": "code",
   "execution_count": 64,
   "id": "b78d9819-6aa6-49d0-ab39-a4f5917b7ab4",
   "metadata": {},
   "outputs": [
    {
     "data": {
      "text/plain": [
       "tensor([[ 23.,  29.,  35.],\n",
       "        [ 53.,  67.,  81.],\n",
       "        [ 83., 105., 127.]])"
      ]
     },
     "execution_count": 64,
     "metadata": {},
     "output_type": "execute_result"
    }
   ],
   "source": [
    "torch.matmul(matrix_A, matrix_B_Trans)"
   ]
  },
  {
   "cell_type": "code",
   "execution_count": null,
   "id": "3d3e4a72-21e5-4f85-a00b-b38e460867bc",
   "metadata": {},
   "outputs": [],
   "source": []
  },
  {
   "cell_type": "markdown",
   "id": "cf9c5dc8-8c57-47b2-83d0-1daf28f34f58",
   "metadata": {},
   "source": [
    "# Min, Max, Sum, Mean"
   ]
  },
  {
   "cell_type": "code",
   "execution_count": 84,
   "id": "98fa4488-b292-4ea8-95d2-f5687845722e",
   "metadata": {},
   "outputs": [
    {
     "data": {
      "text/plain": [
       "tensor([ 5.,  8., 11., 14., 17., 20., 23., 26., 29., 32., 35., 38., 41., 44.,\n",
       "        47., 50., 53., 56., 59., 62., 65., 68., 71., 74., 77., 80., 83., 86.,\n",
       "        89., 92., 95., 98.])"
      ]
     },
     "execution_count": 84,
     "metadata": {},
     "output_type": "execute_result"
    }
   ],
   "source": [
    "tensor = torch.arange(5., 100, 3)\n",
    "tensor"
   ]
  },
  {
   "cell_type": "code",
   "execution_count": 85,
   "id": "a9c1f0db-8ce8-4541-88d0-effd8b44b7f0",
   "metadata": {},
   "outputs": [
    {
     "data": {
      "text/plain": [
       "5.0"
      ]
     },
     "execution_count": 85,
     "metadata": {},
     "output_type": "execute_result"
    }
   ],
   "source": [
    "# Min\n",
    "tensor.min().item()"
   ]
  },
  {
   "cell_type": "code",
   "execution_count": 86,
   "id": "26c8ebbc-06e6-4ba0-946b-63c4e2f6aee3",
   "metadata": {},
   "outputs": [
    {
     "data": {
      "text/plain": [
       "98.0"
      ]
     },
     "execution_count": 86,
     "metadata": {},
     "output_type": "execute_result"
    }
   ],
   "source": [
    "# Max\n",
    "tensor.max().item()"
   ]
  },
  {
   "cell_type": "code",
   "execution_count": 87,
   "id": "d7ddb2fb-77f0-41ce-b198-76cdeb5ac444",
   "metadata": {},
   "outputs": [
    {
     "data": {
      "text/plain": [
       "1648.0"
      ]
     },
     "execution_count": 87,
     "metadata": {},
     "output_type": "execute_result"
    }
   ],
   "source": [
    "# sum\n",
    "tensor.sum().item()"
   ]
  },
  {
   "cell_type": "code",
   "execution_count": 88,
   "id": "88025c54-2b6a-46a2-9408-ab73e7feeb10",
   "metadata": {},
   "outputs": [
    {
     "data": {
      "text/plain": [
       "51.5"
      ]
     },
     "execution_count": 88,
     "metadata": {},
     "output_type": "execute_result"
    }
   ],
   "source": [
    "# Mean\n",
    "tensor.mean().item()"
   ]
  },
  {
   "cell_type": "code",
   "execution_count": 89,
   "id": "c8f3b8f1-3805-4d46-a7e2-cdab14c2d8af",
   "metadata": {},
   "outputs": [
    {
     "data": {
      "text/plain": [
       "(tensor(5.), tensor(98.), tensor(1648.), tensor(51.5000))"
      ]
     },
     "execution_count": 89,
     "metadata": {},
     "output_type": "execute_result"
    }
   ],
   "source": [
    "torch.min(tensor), torch.max(tensor), torch.sum(tensor), torch.mean(tensor)"
   ]
  },
  {
   "cell_type": "markdown",
   "id": "8300cd11-846b-4628-9f4e-91a409c9b532",
   "metadata": {},
   "source": [
    "---\n",
    "## Position/ Index In Tensor:"
   ]
  },
  {
   "cell_type": "code",
   "execution_count": 90,
   "id": "8925ef8a-1cf1-4a87-ac43-93c6fb990c6d",
   "metadata": {},
   "outputs": [
    {
     "data": {
      "text/plain": [
       "tensor([ 5.,  8., 11., 14., 17., 20., 23., 26., 29., 32., 35., 38., 41., 44.,\n",
       "        47., 50., 53., 56., 59., 62., 65., 68., 71., 74., 77., 80., 83., 86.,\n",
       "        89., 92., 95., 98.])"
      ]
     },
     "execution_count": 90,
     "metadata": {},
     "output_type": "execute_result"
    }
   ],
   "source": [
    "# Sample tensor\n",
    "tensor"
   ]
  },
  {
   "cell_type": "code",
   "execution_count": 92,
   "id": "f2920e49-e214-4789-a46d-f5cc08344617",
   "metadata": {},
   "outputs": [
    {
     "data": {
      "text/plain": [
       "tensor(0)"
      ]
     },
     "execution_count": 92,
     "metadata": {},
     "output_type": "execute_result"
    }
   ],
   "source": [
    "# finding index of min value\n",
    "torch.argmin(tensor)"
   ]
  },
  {
   "cell_type": "code",
   "execution_count": 93,
   "id": "22542192-e3ac-48db-8afe-e1ceeca3da77",
   "metadata": {},
   "outputs": [
    {
     "data": {
      "text/plain": [
       "tensor(31)"
      ]
     },
     "execution_count": 93,
     "metadata": {},
     "output_type": "execute_result"
    }
   ],
   "source": [
    "# Finding index of Max value:\n",
    "torch.argmax(tensor)"
   ]
  },
  {
   "cell_type": "code",
   "execution_count": null,
   "id": "46ccdd33-b4a2-47c2-8d7b-deb96271c66b",
   "metadata": {},
   "outputs": [],
   "source": []
  }
 ],
 "metadata": {
  "kernelspec": {
   "display_name": "Python 3 (ipykernel)",
   "language": "python",
   "name": "python3"
  },
  "language_info": {
   "codemirror_mode": {
    "name": "ipython",
    "version": 3
   },
   "file_extension": ".py",
   "mimetype": "text/x-python",
   "name": "python",
   "nbconvert_exporter": "python",
   "pygments_lexer": "ipython3",
   "version": "3.12.4"
  }
 },
 "nbformat": 4,
 "nbformat_minor": 5
}
