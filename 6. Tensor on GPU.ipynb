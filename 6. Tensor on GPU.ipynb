{
 "cells": [
  {
   "cell_type": "markdown",
   "id": "f16589ef-9b0f-45e3-b747-ddd88f49d7e9",
   "metadata": {},
   "source": [
    "# Running code on GPU\n",
    "\n",
    "\n",
    "######   Run This code on Google Colab/ device Which contains GPU\n",
    "\n",
    "\n",
    "\n",
    "\n",
    "###### ."
   ]
  },
  {
   "cell_type": "code",
   "execution_count": 1,
   "id": "c8005e01-2286-4886-bd91-75dfad47048f",
   "metadata": {},
   "outputs": [],
   "source": [
    "import torch"
   ]
  },
  {
   "cell_type": "code",
   "execution_count": null,
   "id": "f59b8ce4-813b-4a49-8954-9cd8b1d7f54d",
   "metadata": {},
   "outputs": [],
   "source": []
  },
  {
   "cell_type": "markdown",
   "id": "7e30f2d1-5390-4d01-b119-d190ccafc495",
   "metadata": {},
   "source": [
    "### 1. checking 'cuda' is available or not"
   ]
  },
  {
   "cell_type": "code",
   "execution_count": 3,
   "id": "c00a22a2-6211-4f8c-beaf-3c7dfc36fb73",
   "metadata": {},
   "outputs": [
    {
     "data": {
      "text/plain": [
       "False"
      ]
     },
     "execution_count": 3,
     "metadata": {},
     "output_type": "execute_result"
    }
   ],
   "source": [
    "torch.cuda.is_available()"
   ]
  },
  {
   "cell_type": "markdown",
   "id": "41607b12-5306-4575-8050-724a838c4bdc",
   "metadata": {},
   "source": [
    "### 2. this line is mendatory to write every time"
   ]
  },
  {
   "cell_type": "code",
   "execution_count": 5,
   "id": "05245023-282d-4744-b656-d7564cc54863",
   "metadata": {},
   "outputs": [
    {
     "data": {
      "text/plain": [
       "'cpu'"
      ]
     },
     "execution_count": 5,
     "metadata": {},
     "output_type": "execute_result"
    }
   ],
   "source": [
    "device = 'cuda' if torch.cuda.is_available() else 'cpu'\n",
    "device"
   ]
  },
  {
   "cell_type": "markdown",
   "id": "a5addc21-bb1b-497f-a65f-21ccab67daf3",
   "metadata": {},
   "source": [
    "### 3. checking how may GPU Slot are available"
   ]
  },
  {
   "cell_type": "code",
   "execution_count": 6,
   "id": "0a38136c-d90b-49b1-8c1a-e64f6aefcd56",
   "metadata": {},
   "outputs": [
    {
     "data": {
      "text/plain": [
       "0"
      ]
     },
     "execution_count": 6,
     "metadata": {},
     "output_type": "execute_result"
    }
   ],
   "source": [
    "torch.cuda.device_count()"
   ]
  },
  {
   "cell_type": "code",
   "execution_count": 7,
   "id": "f1eec4d1-d18c-458f-8ebc-faf9d7c301cb",
   "metadata": {},
   "outputs": [
    {
     "data": {
      "text/plain": [
       "tensor([1, 2, 3, 4])"
      ]
     },
     "execution_count": 7,
     "metadata": {},
     "output_type": "execute_result"
    }
   ],
   "source": [
    "# Creating tensor:\n",
    "tensor = torch.tensor([1,2,3,4])\n",
    "tensor"
   ]
  },
  {
   "cell_type": "markdown",
   "id": "9de4b2ee-099a-4e8e-bcb3-b61bf9d9159a",
   "metadata": {},
   "source": [
    "---\n",
    "## Running on GPU"
   ]
  },
  {
   "cell_type": "code",
   "execution_count": 15,
   "id": "397de539-7b48-48b1-b036-fd7aa079ba89",
   "metadata": {},
   "outputs": [
    {
     "data": {
      "text/plain": [
       "tensor([1, 2, 3, 4])"
      ]
     },
     "execution_count": 15,
     "metadata": {},
     "output_type": "execute_result"
    }
   ],
   "source": [
    "tensor.to(device)"
   ]
  },
  {
   "cell_type": "code",
   "execution_count": 16,
   "id": "5fd749fd-cc70-43e5-9bd8-2f9ee0ce58c4",
   "metadata": {},
   "outputs": [
    {
     "data": {
      "text/plain": [
       "device(type='cpu')"
      ]
     },
     "execution_count": 16,
     "metadata": {},
     "output_type": "execute_result"
    }
   ],
   "source": [
    "tensor.device"
   ]
  },
  {
   "cell_type": "markdown",
   "id": "475b021e-e62a-42dc-8b16-7a43b7b779bf",
   "metadata": {},
   "source": [
    "---\n",
    "## return back to CPU"
   ]
  },
  {
   "cell_type": "code",
   "execution_count": 17,
   "id": "606d126f-928a-439e-8847-1cb177bdf228",
   "metadata": {},
   "outputs": [
    {
     "data": {
      "text/plain": [
       "tensor([1, 2, 3, 4])"
      ]
     },
     "execution_count": 17,
     "metadata": {},
     "output_type": "execute_result"
    }
   ],
   "source": [
    "gpu_run"
   ]
  },
  {
   "cell_type": "code",
   "execution_count": 18,
   "id": "b3903166-1047-40d1-840a-b9f05768f8a0",
   "metadata": {},
   "outputs": [
    {
     "data": {
      "text/plain": [
       "tensor([1, 2, 3, 4])"
      ]
     },
     "execution_count": 18,
     "metadata": {},
     "output_type": "execute_result"
    }
   ],
   "source": [
    "gpu_run.cpu()"
   ]
  },
  {
   "cell_type": "code",
   "execution_count": null,
   "id": "5279dbe2-c168-44f2-86e8-e2de04fcec95",
   "metadata": {},
   "outputs": [],
   "source": []
  },
  {
   "cell_type": "code",
   "execution_count": null,
   "id": "f8a3c9c7-bd01-4076-b485-d347ca17cdac",
   "metadata": {},
   "outputs": [],
   "source": []
  }
 ],
 "metadata": {
  "kernelspec": {
   "display_name": "Python 3 (ipykernel)",
   "language": "python",
   "name": "python3"
  },
  "language_info": {
   "codemirror_mode": {
    "name": "ipython",
    "version": 3
   },
   "file_extension": ".py",
   "mimetype": "text/x-python",
   "name": "python",
   "nbconvert_exporter": "python",
   "pygments_lexer": "ipython3",
   "version": "3.12.4"
  }
 },
 "nbformat": 4,
 "nbformat_minor": 5
}
