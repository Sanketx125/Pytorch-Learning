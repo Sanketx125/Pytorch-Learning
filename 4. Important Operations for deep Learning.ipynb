{
 "cells": [
  {
   "cell_type": "markdown",
   "id": "36302b64-a3cd-48d1-ab66-827300918e2a",
   "metadata": {},
   "source": [
    "# Some Important Operation for Deep Learning.\n",
    "\n",
    "   * Rechaping\n",
    "   * view\n",
    "   * Stacking\n",
    "   * Squeezing\n",
    "   * Unsqueezing\n",
    "   * Permute\n",
    "   * indexing\n",
    "---"
   ]
  },
  {
   "cell_type": "code",
   "execution_count": 2,
   "id": "bd9e2da5-bff1-4da0-9c60-1ddb3ece2c9a",
   "metadata": {},
   "outputs": [],
   "source": [
    "import torch"
   ]
  },
  {
   "cell_type": "code",
   "execution_count": 3,
   "id": "fedaa44d-35e3-42d7-8cb2-4d19918cbd6d",
   "metadata": {},
   "outputs": [
    {
     "data": {
      "text/plain": [
       "tensor([1., 2., 3., 4., 5., 6., 7., 8.])"
      ]
     },
     "execution_count": 3,
     "metadata": {},
     "output_type": "execute_result"
    }
   ],
   "source": [
    "# Sample tensor\n",
    "\n",
    "tensor = torch.arange(1, 9.)\n",
    "tensor"
   ]
  },
  {
   "cell_type": "markdown",
   "id": "8339797c-b306-4a22-b384-c318cc62a79b",
   "metadata": {},
   "source": [
    "### 1. Reshape :"
   ]
  },
  {
   "cell_type": "code",
   "execution_count": 4,
   "id": "17fd5e51-f802-484c-8c5a-8007588284f2",
   "metadata": {},
   "outputs": [
    {
     "data": {
      "text/plain": [
       "tensor([[1., 2., 3., 4.],\n",
       "        [5., 6., 7., 8.]])"
      ]
     },
     "execution_count": 4,
     "metadata": {},
     "output_type": "execute_result"
    }
   ],
   "source": [
    "reshaped_tensor = tensor.reshape(2, 4)\n",
    "reshaped_tensor"
   ]
  },
  {
   "cell_type": "code",
   "execution_count": 5,
   "id": "5f2ea622-c45a-434a-9725-e02317ff4636",
   "metadata": {},
   "outputs": [
    {
     "data": {
      "text/plain": [
       "tensor([[[1., 2.],\n",
       "         [3., 4.]],\n",
       "\n",
       "        [[5., 6.],\n",
       "         [7., 8.]]])"
      ]
     },
     "execution_count": 5,
     "metadata": {},
     "output_type": "execute_result"
    }
   ],
   "source": [
    "reshaped_tensor = tensor.reshape(2, 2, 2)\n",
    "reshaped_tensor"
   ]
  },
  {
   "cell_type": "markdown",
   "id": "b0129f2d-fe77-4285-a274-dc0328a237c9",
   "metadata": {},
   "source": [
    "---\n",
    "### 2. View\n",
    "   * view is similar to reshape function.\n",
    "   * but major difference is by using view function we can direct change the values by using index in tensor\n",
    "   * it changes are permenent in tensor"
   ]
  },
  {
   "cell_type": "code",
   "execution_count": 45,
   "id": "adda6181-0acc-4e4e-905e-2cab1cebe22a",
   "metadata": {},
   "outputs": [
    {
     "data": {
      "text/plain": [
       "tensor([10.,  2.,  3.,  4.,  5.,  6.,  7.,  8.])"
      ]
     },
     "execution_count": 45,
     "metadata": {},
     "output_type": "execute_result"
    }
   ],
   "source": [
    "# sample tesnor\n",
    "tensor"
   ]
  },
  {
   "cell_type": "code",
   "execution_count": 18,
   "id": "e29be3c5-c3d7-4cc9-836d-34aea661e34d",
   "metadata": {},
   "outputs": [
    {
     "data": {
      "text/plain": [
       "tensor([[10.,  2.,  3.,  4.],\n",
       "        [ 5.,  6.,  7.,  8.]])"
      ]
     },
     "execution_count": 18,
     "metadata": {},
     "output_type": "execute_result"
    }
   ],
   "source": [
    "y_view = tensor.view(2,4)\n",
    "y_view"
   ]
  },
  {
   "cell_type": "code",
   "execution_count": 19,
   "id": "1ff7a692-b0e3-46e6-af8f-8bcf424516f7",
   "metadata": {},
   "outputs": [],
   "source": [
    "y_view[0, 0] = 10"
   ]
  },
  {
   "cell_type": "code",
   "execution_count": 20,
   "id": "93e71ca8-94ae-49f0-aba1-a9f738055bd2",
   "metadata": {},
   "outputs": [
    {
     "data": {
      "text/plain": [
       "tensor([[10.,  2.,  3.,  4.],\n",
       "        [ 5.,  6.,  7.,  8.]])"
      ]
     },
     "execution_count": 20,
     "metadata": {},
     "output_type": "execute_result"
    }
   ],
   "source": [
    "y_view"
   ]
  },
  {
   "cell_type": "code",
   "execution_count": 21,
   "id": "2a6b6f96-7388-4011-b915-60484098d79b",
   "metadata": {},
   "outputs": [
    {
     "data": {
      "text/plain": [
       "tensor([10.,  2.,  3.,  4.,  5.,  6.,  7.,  8.])"
      ]
     },
     "execution_count": 21,
     "metadata": {},
     "output_type": "execute_result"
    }
   ],
   "source": [
    "tensor"
   ]
  },
  {
   "cell_type": "markdown",
   "id": "1b87800d-c8a6-418e-8e8c-465768773b44",
   "metadata": {},
   "source": [
    "---\n",
    "### 3. Stacking:\n",
    "   * it can add tensor on tensor (concatinate) if condition is size of all stack required same\n",
    "   * dim =0 - concatinate with row wise\n",
    "   * dim =1 - concatinate with columns wise"
   ]
  },
  {
   "cell_type": "code",
   "execution_count": 39,
   "id": "498dbc20-1591-4d5a-a090-d2c3071a63ae",
   "metadata": {},
   "outputs": [
    {
     "data": {
      "text/plain": [
       "(tensor([1., 2., 3., 4., 5.]), tensor([5., 6., 7., 8., 9.]))"
      ]
     },
     "execution_count": 39,
     "metadata": {},
     "output_type": "execute_result"
    }
   ],
   "source": [
    "t1 = torch.arange(1,6, dtype = torch.float32)\n",
    "t2 = torch.arange(5,10, dtype = torch.float32)\n",
    "t1, t2"
   ]
  },
  {
   "cell_type": "code",
   "execution_count": 42,
   "id": "ade408ae-36de-470c-8f1e-61400ea9be59",
   "metadata": {},
   "outputs": [
    {
     "data": {
      "text/plain": [
       "tensor([[1., 2., 3., 4., 5.],\n",
       "        [1., 2., 3., 4., 5.],\n",
       "        [5., 6., 7., 8., 9.]])"
      ]
     },
     "execution_count": 42,
     "metadata": {},
     "output_type": "execute_result"
    }
   ],
   "source": [
    "# row size stacking:\n",
    "torch.stack([t1, t1, t2], dim= 0)"
   ]
  },
  {
   "cell_type": "code",
   "execution_count": 43,
   "id": "e894bee9-84bf-495b-90ab-3bbb06145689",
   "metadata": {},
   "outputs": [
    {
     "data": {
      "text/plain": [
       "tensor([[1., 1., 5.],\n",
       "        [2., 2., 6.],\n",
       "        [3., 3., 7.],\n",
       "        [4., 4., 8.],\n",
       "        [5., 5., 9.]])"
      ]
     },
     "execution_count": 43,
     "metadata": {},
     "output_type": "execute_result"
    }
   ],
   "source": [
    "# Column wise stacking\n",
    "torch.stack([t1, t1, t2], dim= 1)"
   ]
  },
  {
   "cell_type": "markdown",
   "id": "bfd42b53-d120-4f6d-90c9-29da773852ca",
   "metadata": {},
   "source": [
    "---\n",
    "### 4. Unsqueezeing\n",
    "\n",
    "* add new dimension on tensor:"
   ]
  },
  {
   "cell_type": "code",
   "execution_count": 46,
   "id": "168811cf-163d-4540-a4fb-42187094454c",
   "metadata": {},
   "outputs": [
    {
     "data": {
      "text/plain": [
       "tensor([10.,  2.,  3.,  4.,  5.,  6.,  7.,  8.])"
      ]
     },
     "execution_count": 46,
     "metadata": {},
     "output_type": "execute_result"
    }
   ],
   "source": [
    "tensor"
   ]
  },
  {
   "cell_type": "code",
   "execution_count": 48,
   "id": "d6cbcfa3-0177-4191-a6db-18ebe341331c",
   "metadata": {},
   "outputs": [
    {
     "data": {
      "text/plain": [
       "(torch.Size([8]), 1)"
      ]
     },
     "execution_count": 48,
     "metadata": {},
     "output_type": "execute_result"
    }
   ],
   "source": [
    "tensor.shape, tensor.dim()"
   ]
  },
  {
   "cell_type": "code",
   "execution_count": 52,
   "id": "50f4055d-fff7-4fca-b444-01f31f35bdbb",
   "metadata": {},
   "outputs": [
    {
     "data": {
      "text/plain": [
       "tensor([[10.,  2.,  3.,  4.,  5.,  6.,  7.,  8.]])"
      ]
     },
     "execution_count": 52,
     "metadata": {},
     "output_type": "execute_result"
    }
   ],
   "source": [
    "new_tensor = tensor.unsqueeze(dim= 0)\n",
    "new_tensor"
   ]
  },
  {
   "cell_type": "code",
   "execution_count": 54,
   "id": "916219b9-d973-4499-9205-f0f7ca72ffba",
   "metadata": {},
   "outputs": [
    {
     "data": {
      "text/plain": [
       "(torch.Size([1, 8]), 2)"
      ]
     },
     "execution_count": 54,
     "metadata": {},
     "output_type": "execute_result"
    }
   ],
   "source": [
    "new_tensor.shape, new_tensor.dim()"
   ]
  },
  {
   "cell_type": "markdown",
   "id": "7006693c-1012-4d9d-a197-3183751adc1a",
   "metadata": {},
   "source": [
    "---\n",
    "### 6. squeezing:\n",
    "\n",
    "* remove dimension in tensor"
   ]
  },
  {
   "cell_type": "code",
   "execution_count": 58,
   "id": "cb98cc1c-c233-48b7-a27b-4d2035cc50c0",
   "metadata": {},
   "outputs": [
    {
     "data": {
      "text/plain": [
       "tensor([[10.,  2.,  3.,  4.,  5.,  6.,  7.,  8.]])"
      ]
     },
     "execution_count": 58,
     "metadata": {},
     "output_type": "execute_result"
    }
   ],
   "source": [
    "new_tensor"
   ]
  },
  {
   "cell_type": "code",
   "execution_count": 59,
   "id": "96fc6d60-81d7-4554-8d6e-28071b1067ca",
   "metadata": {},
   "outputs": [
    {
     "data": {
      "text/plain": [
       "torch.Size([1, 8])"
      ]
     },
     "execution_count": 59,
     "metadata": {},
     "output_type": "execute_result"
    }
   ],
   "source": [
    "new_tensor.shape"
   ]
  },
  {
   "cell_type": "code",
   "execution_count": 62,
   "id": "d66b85b9-c4f2-4565-82b5-131c4354cdc3",
   "metadata": {},
   "outputs": [
    {
     "data": {
      "text/plain": [
       "tensor([10.,  2.,  3.,  4.,  5.,  6.,  7.,  8.])"
      ]
     },
     "execution_count": 62,
     "metadata": {},
     "output_type": "execute_result"
    }
   ],
   "source": [
    "squeeze = new_tensor.squeeze()\n",
    "squeeze"
   ]
  },
  {
   "cell_type": "code",
   "execution_count": 63,
   "id": "846b3377-b152-4b7a-bce3-7b1510e990cd",
   "metadata": {},
   "outputs": [
    {
     "data": {
      "text/plain": [
       "torch.Size([8])"
      ]
     },
     "execution_count": 63,
     "metadata": {},
     "output_type": "execute_result"
    }
   ],
   "source": [
    "squeeze.shape"
   ]
  },
  {
   "cell_type": "markdown",
   "id": "3d1cf15c-bbf3-46db-b7c7-f88302383112",
   "metadata": {},
   "source": [
    " ---\n",
    "### 7. Permute:\n",
    "\n",
    "* this is used when we want to change position or dimensions"
   ]
  },
  {
   "cell_type": "code",
   "execution_count": 66,
   "id": "0504ce38-5422-4304-ba90-73ae46cc657b",
   "metadata": {},
   "outputs": [
    {
     "data": {
      "text/plain": [
       "tensor([[[0.5547, 0.9508, 0.9743, 0.8106],\n",
       "         [0.3917, 0.1453, 0.4711, 0.5331],\n",
       "         [0.9853, 0.2032, 0.1287, 0.4698]],\n",
       "\n",
       "        [[0.3476, 0.4742, 0.3376, 0.5886],\n",
       "         [0.0388, 0.7523, 0.7590, 0.1478],\n",
       "         [0.4824, 0.7596, 0.4329, 0.1579]]])"
      ]
     },
     "execution_count": 66,
     "metadata": {},
     "output_type": "execute_result"
    }
   ],
   "source": [
    "sample_tensor = torch.rand(2, 3, 4)  # positions ( 0, 1, 2)\n",
    "sample_tensor"
   ]
  },
  {
   "cell_type": "code",
   "execution_count": 67,
   "id": "de74ec8c-b1f4-46a5-9629-82443ba42073",
   "metadata": {},
   "outputs": [
    {
     "data": {
      "text/plain": [
       "torch.Size([2, 3, 4])"
      ]
     },
     "execution_count": 67,
     "metadata": {},
     "output_type": "execute_result"
    }
   ],
   "source": [
    "sample_tensor.shape"
   ]
  },
  {
   "cell_type": "code",
   "execution_count": 68,
   "id": "1c31a21b-a8e8-4afd-a63c-c018db724537",
   "metadata": {},
   "outputs": [
    {
     "data": {
      "text/plain": [
       "tensor([[[0.5547, 0.3917, 0.9853],\n",
       "         [0.3476, 0.0388, 0.4824]],\n",
       "\n",
       "        [[0.9508, 0.1453, 0.2032],\n",
       "         [0.4742, 0.7523, 0.7596]],\n",
       "\n",
       "        [[0.9743, 0.4711, 0.1287],\n",
       "         [0.3376, 0.7590, 0.4329]],\n",
       "\n",
       "        [[0.8106, 0.5331, 0.4698],\n",
       "         [0.5886, 0.1478, 0.1579]]])"
      ]
     },
     "execution_count": 68,
     "metadata": {},
     "output_type": "execute_result"
    }
   ],
   "source": [
    "# chaninge position\n",
    "x_permit = sample_tensor.permute(2, 0, 1)\n",
    "x_permit"
   ]
  },
  {
   "cell_type": "code",
   "execution_count": 70,
   "id": "e9c6faf7-ac94-471c-be20-4ce3b0e69e71",
   "metadata": {},
   "outputs": [
    {
     "data": {
      "text/plain": [
       "torch.Size([4, 2, 3])"
      ]
     },
     "execution_count": 70,
     "metadata": {},
     "output_type": "execute_result"
    }
   ],
   "source": [
    "x_permit.shape"
   ]
  },
  {
   "cell_type": "code",
   "execution_count": 72,
   "id": "8995b3de-5033-4659-b6ce-34c0e3a3ff1f",
   "metadata": {},
   "outputs": [
    {
     "data": {
      "text/plain": [
       "(torch.Size([4, 2, 3]), torch.Size([2, 3, 4]))"
      ]
     },
     "execution_count": 72,
     "metadata": {},
     "output_type": "execute_result"
    }
   ],
   "source": [
    "# here we can see we have change the positions of dimensions\n",
    "x_permit.shape, sample_tensor.shape"
   ]
  },
  {
   "cell_type": "markdown",
   "id": "10c553d5-a1f0-45a1-9e2a-bac6f75784a8",
   "metadata": {},
   "source": [
    "---\n",
    "### 8. Indexing "
   ]
  },
  {
   "cell_type": "code",
   "execution_count": 76,
   "id": "caf768e8-4a6c-43b5-8f3c-37040fb32296",
   "metadata": {},
   "outputs": [
    {
     "data": {
      "text/plain": [
       "tensor([1, 2, 3, 4, 5, 6, 7, 8, 9])"
      ]
     },
     "execution_count": 76,
     "metadata": {},
     "output_type": "execute_result"
    }
   ],
   "source": [
    "tensor = torch.arange(1, 10)\n",
    "tensor"
   ]
  },
  {
   "cell_type": "code",
   "execution_count": 80,
   "id": "a8a249e0-6aa4-4324-a32f-346f7656e89e",
   "metadata": {},
   "outputs": [
    {
     "data": {
      "text/plain": [
       "tensor([[[1, 2, 3],\n",
       "         [4, 5, 6],\n",
       "         [7, 8, 9]]])"
      ]
     },
     "execution_count": 80,
     "metadata": {},
     "output_type": "execute_result"
    }
   ],
   "source": [
    "tensor= tensor.reshape(1,3, 3)\n",
    "tensor"
   ]
  },
  {
   "cell_type": "code",
   "execution_count": 81,
   "id": "3407f3d9-fb94-4a82-b6d6-bff8aad3a60d",
   "metadata": {},
   "outputs": [
    {
     "data": {
      "text/plain": [
       "torch.Size([1, 3, 3])"
      ]
     },
     "execution_count": 81,
     "metadata": {},
     "output_type": "execute_result"
    }
   ],
   "source": [
    "tensor.shape"
   ]
  },
  {
   "cell_type": "code",
   "execution_count": 83,
   "id": "80e876bb-be3d-488d-90b0-2022fd57a5fc",
   "metadata": {},
   "outputs": [
    {
     "data": {
      "text/plain": [
       "tensor([[1, 2, 3],\n",
       "        [4, 5, 6],\n",
       "        [7, 8, 9]])"
      ]
     },
     "execution_count": 83,
     "metadata": {},
     "output_type": "execute_result"
    }
   ],
   "source": [
    "# print all values in 1-Dimension\n",
    "tensor[0]"
   ]
  },
  {
   "cell_type": "code",
   "execution_count": 89,
   "id": "608fb9a8-f1ce-4403-a650-272cda03d982",
   "metadata": {},
   "outputs": [
    {
     "data": {
      "text/plain": [
       "tensor([1, 2, 3])"
      ]
     },
     "execution_count": 89,
     "metadata": {},
     "output_type": "execute_result"
    }
   ],
   "source": [
    "# print all values in first row from first dimension\n",
    "tensor[0, 0]"
   ]
  },
  {
   "cell_type": "code",
   "execution_count": 90,
   "id": "e9fd5f1b-7043-4436-a375-019abe1f5e44",
   "metadata": {},
   "outputs": [
    {
     "data": {
      "text/plain": [
       "tensor([4, 5, 6])"
      ]
     },
     "execution_count": 90,
     "metadata": {},
     "output_type": "execute_result"
    }
   ],
   "source": [
    "# print all values in 2nd row from first dimension\n",
    "tensor[0,1]"
   ]
  },
  {
   "cell_type": "code",
   "execution_count": 92,
   "id": "ec7b7875-a963-4c0c-b79c-b13c0a8380d9",
   "metadata": {},
   "outputs": [
    {
     "data": {
      "text/plain": [
       "tensor(6)"
      ]
     },
     "execution_count": 92,
     "metadata": {},
     "output_type": "execute_result"
    }
   ],
   "source": [
    "# print 3rd value from 2row and one dimension  = 6\n",
    "tensor[0, 1, 2]"
   ]
  },
  {
   "cell_type": "markdown",
   "id": "e372b4cb-8278-472e-a952-4db723123020",
   "metadata": {},
   "source": [
    "---\n",
    "### 9. Reproducibility:  (Random_seed)\n",
    "\n",
    "* when we run below code every time we get new different value but we want ot create multiple tensors but its value are remain same that time it can use\n"
   ]
  },
  {
   "cell_type": "code",
   "execution_count": 93,
   "id": "c951f03d-a066-40bf-92bf-d28d891e88c8",
   "metadata": {},
   "outputs": [],
   "source": [
    "\n",
    "tensor1 = torch.rand(3, 4)\n",
    "tensor2 = torch.rand(3, 4)"
   ]
  },
  {
   "cell_type": "code",
   "execution_count": 97,
   "id": "2b71499d-dd7e-420c-b367-0c657c5be546",
   "metadata": {},
   "outputs": [
    {
     "data": {
      "text/plain": [
       "tensor([[0.9571, 0.1891, 0.7343, 0.4606],\n",
       "        [0.7728, 0.9456, 0.0489, 0.8898],\n",
       "        [0.7774, 0.2275, 0.6151, 0.0988]])"
      ]
     },
     "execution_count": 97,
     "metadata": {},
     "output_type": "execute_result"
    }
   ],
   "source": [
    "tensor1"
   ]
  },
  {
   "cell_type": "code",
   "execution_count": 98,
   "id": "ccdf39fd-aecd-4485-bedc-3294b7596903",
   "metadata": {},
   "outputs": [
    {
     "data": {
      "text/plain": [
       "tensor([[0.6768, 0.6139, 0.7276, 0.4038],\n",
       "        [0.3646, 0.5478, 0.7418, 0.5839],\n",
       "        [0.0751, 0.9780, 0.8882, 0.3818]])"
      ]
     },
     "execution_count": 98,
     "metadata": {},
     "output_type": "execute_result"
    }
   ],
   "source": [
    "tensor2"
   ]
  },
  {
   "cell_type": "code",
   "execution_count": 100,
   "id": "96390cf8-de01-4f21-b514-c7d18cf9e2a4",
   "metadata": {},
   "outputs": [
    {
     "data": {
      "text/plain": [
       "tensor([[0.8303, 0.1261, 0.9075, 0.8199],\n",
       "        [0.9201, 0.1166, 0.1644, 0.7379],\n",
       "        [0.0333, 0.9942, 0.6064, 0.5646]])"
      ]
     },
     "execution_count": 100,
     "metadata": {},
     "output_type": "execute_result"
    }
   ],
   "source": [
    "# Setting Manual Seed: (reproucibility)\n",
    "torch.manual_seed(5)\n",
    "tensor1 = torch.rand(3, 4)\n",
    "tensor1"
   ]
  },
  {
   "cell_type": "markdown",
   "id": "4d40c882-c31f-4c3e-8442-4c04ca4db356",
   "metadata": {},
   "source": [
    "* #### now every time we set manual seed data that time always we getting same value in from each newly created tensor"
   ]
  },
  {
   "cell_type": "code",
   "execution_count": 101,
   "id": "d524d995-0421-4d3a-bf9a-9b3f9fc1ef01",
   "metadata": {},
   "outputs": [
    {
     "data": {
      "text/plain": [
       "tensor([[0.8303, 0.1261, 0.9075, 0.8199],\n",
       "        [0.9201, 0.1166, 0.1644, 0.7379],\n",
       "        [0.0333, 0.9942, 0.6064, 0.5646]])"
      ]
     },
     "execution_count": 101,
     "metadata": {},
     "output_type": "execute_result"
    }
   ],
   "source": [
    "torch.manual_seed(5)\n",
    "tensor_123 = torch.rand(3,4)\n",
    "tensor_123"
   ]
  },
  {
   "cell_type": "markdown",
   "id": "b0feb75b-d9d2-4e60-9254-806925844fc8",
   "metadata": {},
   "source": [
    "#### here, we can see the 'tensor1' and 'tensor_123' as same value "
   ]
  },
  {
   "cell_type": "code",
   "execution_count": null,
   "id": "69b2213e-bb3f-43e6-bed5-89ab091ff4bc",
   "metadata": {},
   "outputs": [],
   "source": []
  },
  {
   "cell_type": "markdown",
   "id": "caf46341-e92b-49b4-9bbd-ba0e360bfab5",
   "metadata": {},
   "source": [
    "# Runnig code on GPU"
   ]
  },
  {
   "cell_type": "code",
   "execution_count": null,
   "id": "68f784f3-257b-4814-9642-805f4f19d2ff",
   "metadata": {},
   "outputs": [],
   "source": []
  },
  {
   "cell_type": "code",
   "execution_count": 102,
   "id": "be4702ba-8593-40b0-8880-16800e618bc3",
   "metadata": {},
   "outputs": [
    {
     "data": {
      "text/plain": [
       "False"
      ]
     },
     "execution_count": 102,
     "metadata": {},
     "output_type": "execute_result"
    }
   ],
   "source": [
    "torch.cuda.is_available()"
   ]
  },
  {
   "cell_type": "code",
   "execution_count": 103,
   "id": "47229d56-b0bb-4c2e-be13-3e57bb11c2c2",
   "metadata": {},
   "outputs": [
    {
     "data": {
      "text/plain": [
       "'cpu'"
      ]
     },
     "execution_count": 103,
     "metadata": {},
     "output_type": "execute_result"
    }
   ],
   "source": [
    "device = 'cuda' if torch.cuda.is_available() else 'cpu'\n",
    "device"
   ]
  },
  {
   "cell_type": "code",
   "execution_count": 104,
   "id": "efaaeaa9-f180-4040-989a-c436f29e862e",
   "metadata": {},
   "outputs": [
    {
     "data": {
      "text/plain": [
       "0"
      ]
     },
     "execution_count": 104,
     "metadata": {},
     "output_type": "execute_result"
    }
   ],
   "source": [
    "torch.cuda.device_count()"
   ]
  },
  {
   "cell_type": "code",
   "execution_count": 105,
   "id": "b7523282-9751-4abe-a715-c781c62accb6",
   "metadata": {},
   "outputs": [],
   "source": [
    "tensor = torch.tensor([1, 2, 3])"
   ]
  },
  {
   "cell_type": "code",
   "execution_count": 106,
   "id": "b56dd065-7f0d-4234-8885-d55b2cdfba03",
   "metadata": {},
   "outputs": [
    {
     "data": {
      "text/plain": [
       "tensor([1, 2, 3])"
      ]
     },
     "execution_count": 106,
     "metadata": {},
     "output_type": "execute_result"
    }
   ],
   "source": [
    "tensor"
   ]
  },
  {
   "cell_type": "code",
   "execution_count": 107,
   "id": "42a17d0b-87e3-4452-86e8-b36cc42d4799",
   "metadata": {},
   "outputs": [
    {
     "data": {
      "text/plain": [
       "device(type='cpu')"
      ]
     },
     "execution_count": 107,
     "metadata": {},
     "output_type": "execute_result"
    }
   ],
   "source": [
    "tensor.device"
   ]
  },
  {
   "cell_type": "code",
   "execution_count": 108,
   "id": "6e9e3c86-e5c6-409e-9c05-b1fdccf1e7f3",
   "metadata": {},
   "outputs": [],
   "source": [
    "tensor_gpu = tensor.to(device)"
   ]
  },
  {
   "cell_type": "code",
   "execution_count": 109,
   "id": "89db04dc-4274-4d53-be0b-79aef78d4059",
   "metadata": {},
   "outputs": [
    {
     "data": {
      "text/plain": [
       "device(type='cpu')"
      ]
     },
     "execution_count": 109,
     "metadata": {},
     "output_type": "execute_result"
    }
   ],
   "source": [
    "tensor_gpu.device"
   ]
  },
  {
   "cell_type": "code",
   "execution_count": null,
   "id": "44f83024-0766-4aa4-8f6c-11819c135059",
   "metadata": {},
   "outputs": [],
   "source": []
  }
 ],
 "metadata": {
  "kernelspec": {
   "display_name": "Python 3 (ipykernel)",
   "language": "python",
   "name": "python3"
  },
  "language_info": {
   "codemirror_mode": {
    "name": "ipython",
    "version": 3
   },
   "file_extension": ".py",
   "mimetype": "text/x-python",
   "name": "python",
   "nbconvert_exporter": "python",
   "pygments_lexer": "ipython3",
   "version": "3.12.4"
  }
 },
 "nbformat": 4,
 "nbformat_minor": 5
}
