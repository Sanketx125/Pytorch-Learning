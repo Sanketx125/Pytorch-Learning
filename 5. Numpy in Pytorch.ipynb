{
 "cells": [
  {
   "cell_type": "markdown",
   "id": "c1a6684b-448f-4481-a50c-cc12612d6e4f",
   "metadata": {},
   "source": [
    "# Numpy & Pytorch"
   ]
  },
  {
   "cell_type": "markdown",
   "id": "214f03d9-fa5a-481a-bc99-b24fa7f17cd9",
   "metadata": {},
   "source": [
    "* numpy to tensor conversion\n",
    "* tensor to numpy conversion"
   ]
  },
  {
   "cell_type": "code",
   "execution_count": 1,
   "id": "84dd0cb9-b91f-4a70-b232-64f6e88b2b0e",
   "metadata": {},
   "outputs": [],
   "source": [
    "import torch \n",
    "import numpy as np"
   ]
  },
  {
   "cell_type": "code",
   "execution_count": 2,
   "id": "6c69df7f-ef2e-40c3-acee-9db3617d2d61",
   "metadata": {},
   "outputs": [],
   "source": [
    "data = np.arange(1,10)"
   ]
  },
  {
   "cell_type": "code",
   "execution_count": 6,
   "id": "0b443445-4170-4b6c-871c-f3d8f78d1037",
   "metadata": {},
   "outputs": [
    {
     "data": {
      "text/plain": [
       "array([1, 2, 3, 4, 5, 6, 7, 8, 9])"
      ]
     },
     "execution_count": 6,
     "metadata": {},
     "output_type": "execute_result"
    }
   ],
   "source": [
    "data"
   ]
  },
  {
   "cell_type": "markdown",
   "id": "57311bf7-2f4b-40f8-8d5f-92eecb906e99",
   "metadata": {},
   "source": [
    "---\n",
    "### 1. Numpy to Tensor:"
   ]
  },
  {
   "cell_type": "code",
   "execution_count": 15,
   "id": "4f492c3b-d660-4b1b-943e-ad6f1cdb4f0f",
   "metadata": {},
   "outputs": [],
   "source": [
    "tensor = torch.from_numpy(data)"
   ]
  },
  {
   "cell_type": "code",
   "execution_count": 20,
   "id": "2663a323-beac-406c-8692-2f3c22adefa7",
   "metadata": {},
   "outputs": [
    {
     "data": {
      "text/plain": [
       "tensor([1, 2, 3, 4, 5, 6, 7, 8, 9], dtype=torch.int32)"
      ]
     },
     "execution_count": 20,
     "metadata": {},
     "output_type": "execute_result"
    }
   ],
   "source": [
    "tensor"
   ]
  },
  {
   "cell_type": "code",
   "execution_count": 21,
   "id": "10997f16-843c-428d-8b6e-7bef8100191a",
   "metadata": {},
   "outputs": [
    {
     "data": {
      "text/plain": [
       "tensor([1, 2, 3, 4, 5, 6, 7, 8, 9], dtype=torch.int8)"
      ]
     },
     "execution_count": 21,
     "metadata": {},
     "output_type": "execute_result"
    }
   ],
   "source": [
    "tensor.type(torch.int8)"
   ]
  },
  {
   "cell_type": "markdown",
   "id": "fb4ca03f-15bd-4164-b547-b5a166f3c8d4",
   "metadata": {},
   "source": [
    "---\n",
    "### 2. Tesnor to Numpy:"
   ]
  },
  {
   "cell_type": "code",
   "execution_count": 23,
   "id": "23870b94-23f5-40db-9bab-abce4d813946",
   "metadata": {},
   "outputs": [],
   "source": [
    "arr= tensor.numpy()"
   ]
  },
  {
   "cell_type": "code",
   "execution_count": 24,
   "id": "270b538d-835c-4843-a5e5-1f37a30f0f52",
   "metadata": {},
   "outputs": [
    {
     "data": {
      "text/plain": [
       "array([1, 2, 3, 4, 5, 6, 7, 8, 9])"
      ]
     },
     "execution_count": 24,
     "metadata": {},
     "output_type": "execute_result"
    }
   ],
   "source": [
    "arr"
   ]
  },
  {
   "cell_type": "code",
   "execution_count": null,
   "id": "c520e224-7492-4a45-8eac-4d1978f55b55",
   "metadata": {},
   "outputs": [],
   "source": [
    " "
   ]
  }
 ],
 "metadata": {
  "kernelspec": {
   "display_name": "Python 3 (ipykernel)",
   "language": "python",
   "name": "python3"
  },
  "language_info": {
   "codemirror_mode": {
    "name": "ipython",
    "version": 3
   },
   "file_extension": ".py",
   "mimetype": "text/x-python",
   "name": "python",
   "nbconvert_exporter": "python",
   "pygments_lexer": "ipython3",
   "version": "3.12.4"
  }
 },
 "nbformat": 4,
 "nbformat_minor": 5
}
